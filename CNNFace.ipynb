{
  "nbformat": 4,
  "nbformat_minor": 0,
  "metadata": {
    "colab": {
      "provenance": [],
      "mount_file_id": "1xNHoqna-LcofkJuQMc_k3mtyTyc12Tn3",
      "authorship_tag": "ABX9TyMhKEG10VLkS4TECPU9de0r",
      "include_colab_link": true
    },
    "kernelspec": {
      "name": "python3",
      "display_name": "Python 3"
    },
    "language_info": {
      "name": "python"
    }
  },
  "cells": [
    {
      "cell_type": "markdown",
      "metadata": {
        "id": "view-in-github",
        "colab_type": "text"
      },
      "source": [
        "<a href=\"https://colab.research.google.com/github/Nhutsang/Baocaogiuaky/blob/main/CNNFace.ipynb\" target=\"_parent\"><img src=\"https://colab.research.google.com/assets/colab-badge.svg\" alt=\"Open In Colab\"/></a>"
      ]
    },
    {
      "cell_type": "code",
      "execution_count": 32,
      "metadata": {
        "id": "CSjNGLnTne-L"
      },
      "outputs": [],
      "source": []
    },
    {
      "cell_type": "code",
      "source": [
        "from google.colab import drive\n",
        "drive.mount('/content/drive')"
      ],
      "metadata": {
        "colab": {
          "base_uri": "https://localhost:8080/"
        },
        "id": "Nsj9HvUt0yps",
        "outputId": "f43164a2-0d45-449e-a6dd-e41abbfd350c"
      },
      "execution_count": 33,
      "outputs": [
        {
          "output_type": "stream",
          "name": "stdout",
          "text": [
            "Drive already mounted at /content/drive; to attempt to forcibly remount, call drive.mount(\"/content/drive\", force_remount=True).\n"
          ]
        }
      ]
    },
    {
      "cell_type": "code",
      "source": [
        "import numpy as np\n",
        "import matplotlib.pyplot as plt\n",
        "from os import listdir\n",
        "from numpy import asarray,save\n",
        "from sklearn.model_selection import train_test_split\n",
        "from time import time\n",
        "from keras.utils import load_img, img_to_array\n",
        "from keras.utils  import to_categorical\n",
        "from keras.models import Sequential, Model\n",
        "from keras.layers import *\n",
        "from keras.layers import LeakyReLU\n",
        "from keras.optimizers import Adam\n",
        "from keras.engine.training import optimizers\n",
        "from keras.backend import categorical_crossentropy"
      ],
      "metadata": {
        "id": "em7owxgo00j-"
      },
      "execution_count": 34,
      "outputs": []
    },
    {
      "cell_type": "code",
      "source": [
        "folder = '/content/drive/MyDrive/TrainAI/Trainning/'"
      ],
      "metadata": {
        "id": "M94_C-YA0_Cr"
      },
      "execution_count": 35,
      "outputs": []
    },
    {
      "cell_type": "code",
      "source": [
        "img_size = 100;\n",
        "photos, labels = list(), list()\n",
        "for file in listdir(folder) :\n",
        "  output = 0.0\n",
        "  if file.startswith('sang'):\n",
        "    output = 1.0\n",
        "  if file.startswith('minh'):\n",
        "    output = 2.0\n",
        "  if file.startswith('Phuc'):\n",
        "    output = 3.0\n",
        "  if file.startswith('Hoang'):\n",
        "    output = 4.0\n",
        "  if file.startswith('duynhat'):\n",
        "    output = 5.0\n",
        "  if file.startswith('Loc'):\n",
        "    output = 6.0\n",
        "  \n",
        "  photo = load_img(folder + file, target_size = (img_size,img_size))\n",
        "  photo = img_to_array(photo)\n",
        "  photos.append(photo)\n",
        "  labels.append(output)\n",
        "photos = asarray(photos)\n",
        "labels = np.array(labels)\n",
        "print(photos.shape, labels.shape)\n"
      ],
      "metadata": {
        "colab": {
          "base_uri": "https://localhost:8080/"
        },
        "id": "IldJH3XQ1YE3",
        "outputId": "20e86e6d-4d28-4a01-88a3-a33b32e92b30"
      },
      "execution_count": 36,
      "outputs": [
        {
          "output_type": "stream",
          "name": "stdout",
          "text": [
            "(100, 100, 100, 3) (100,)\n"
          ]
        }
      ]
    },
    {
      "cell_type": "code",
      "source": [
        "photos = photos.astype('float32')/255.0\n",
        "print(photos.shape)\n",
        "     "
      ],
      "metadata": {
        "colab": {
          "base_uri": "https://localhost:8080/"
        },
        "id": "dYcJ8Ior1k4F",
        "outputId": "7e239b29-5980-4784-e606-9c810cc355f6"
      },
      "execution_count": 37,
      "outputs": [
        {
          "output_type": "stream",
          "name": "stdout",
          "text": [
            "(100, 100, 100, 3)\n"
          ]
        }
      ]
    },
    {
      "cell_type": "code",
      "source": [
        "(trainX, testX, trainY, testY) = train_test_split(photos, labels, test_size=0.20, stratify=labels, random_state=10)\n",
        "(trainX, valX, trainY, valY) = train_test_split(trainX, trainY, test_size=0.25, random_state=10)\n",
        "print(trainX.shape)\n",
        "print(trainY.shape)\n",
        "print(testX.shape)\n",
        "print(testY.shape)\n",
        "print(valX.shape)\n",
        "print(valY.shape)"
      ],
      "metadata": {
        "colab": {
          "base_uri": "https://localhost:8080/"
        },
        "id": "1_Q-whQd1l8b",
        "outputId": "cf992c6b-4507-43e6-97f7-07d30f130cf5"
      },
      "execution_count": 38,
      "outputs": [
        {
          "output_type": "stream",
          "name": "stdout",
          "text": [
            "(60, 100, 100, 3)\n",
            "(60,)\n",
            "(20, 100, 100, 3)\n",
            "(20,)\n",
            "(20, 100, 100, 3)\n",
            "(20,)\n"
          ]
        }
      ]
    },
    {
      "cell_type": "code",
      "source": [
        "image_test= 30\n",
        "hinh = trainX[image_test]\n",
        "plt.imshow(hinh) \n",
        "plt.show()  \n",
        "print('Hinh này là: ', trainY[image_test])"
      ],
      "metadata": {
        "colab": {
          "base_uri": "https://localhost:8080/",
          "height": 450
        },
        "id": "ZJoKZ0oU1pY4",
        "outputId": "4229b7ee-6c8e-40ef-d20e-1168b32d569b"
      },
      "execution_count": 43,
      "outputs": [
        {
          "output_type": "display_data",
          "data": {
            "text/plain": [
              "<Figure size 640x480 with 1 Axes>"
            ],
            "image/png": "[encoded data removed]"
          },
          "metadata": {}
        },
        {
          "output_type": "stream",
          "name": "stdout",
          "text": [
            "Hinh này là:  [0. 1. 0. 0. 0. 0. 0.]\n"
          ]
        }
      ]
    },
    {
      "cell_type": "code",
      "source": [
        " #one hot enccoding giatri mau tung diem anh tu thap phan duoi dang 10 bit\n",
        "trainY = to_categorical (trainY)\n",
        "testY=to_categorical(testY)\n",
        "valY=to_categorical(valY)\n",
        "\n",
        "print(trainY.shape)\n",
        "print(testY.shape)\n",
        "print(valY.shape)"
      ],
      "metadata": {
        "colab": {
          "base_uri": "https://localhost:8080/"
        },
        "id": "JqrBR07F497z",
        "outputId": "71d699ec-10a5-418d-ca06-e7b634792026"
      },
      "execution_count": 39,
      "outputs": [
        {
          "output_type": "stream",
          "name": "stdout",
          "text": [
            "(60, 7)\n",
            "(20, 7)\n",
            "(20, 7)\n"
          ]
        }
      ]
    },
    {
      "cell_type": "code",
      "source": [
        "batch_size=32\n",
        "epochs= 50\n",
        "classes = 7\n",
        "\n",
        "#Tạo 1 mạng có 28x28 input và 10 output\n",
        "model = Sequential()\n",
        "# 1 bộ VGG\n",
        "model.add(Conv2D(32, kernel_size=(3,3), activation = 'linear', input_shape=(img_size,img_size,3),padding = 'same'))\n",
        "model.add(LeakyReLU(alpha=0.1))  # Hàm xử lý dữ liệu (Ngưỡng)\n",
        "model.add(MaxPooling2D((2,2), padding='same'))\n",
        "# Bộ 2 VGG\n",
        "model.add(Conv2D(64,(3,3) , activation = 'linear' , padding = 'same'))\n",
        "model.add(LeakyReLU(alpha = 0.1)) # Hàm xử lý dữ liệu (Ngưỡng)\n",
        "model.add(MaxPooling2D((2,2), padding = 'same'))\n",
        "# Bộ 3 VGG\n",
        "model.add(Conv2D(128,(3,3) , activation = 'linear' , padding = 'same'))\n",
        "model.add(LeakyReLU(alpha = 0.1)) # Hàm xử lý dữ liệu (Ngưỡng)\n",
        "model.add(MaxPooling2D((2,2), padding = 'same'))\n",
        "# Bộ 4 VGG\n",
        "model.add(Conv2D(256,(3,3) , activation = 'linear' , padding = 'same'))\n",
        "model.add(LeakyReLU(alpha = 0.1)) # Hàm xử lý dữ liệu (Ngưỡng)\n",
        "model.add(MaxPooling2D((2,2), padding = 'same'))\n",
        "# ANN Model\n",
        "model.add(Flatten()) # Lấy kích thước trước rồi làm phẳng\n",
        "model.add(Dense(512, activation = 'linear'))\n",
        "model.add(LeakyReLU(alpha = 0.1))\n",
        "model.add(Dense(classes, activation = 'softmax'))     \n",
        "model.compile(loss = categorical_crossentropy, optimizer = Adam() , metrics=['accuracy'])\n",
        "model.summary()"
      ],
      "metadata": {
        "colab": {
          "base_uri": "https://localhost:8080/"
        },
        "id": "VXcOAeIN5DL9",
        "outputId": "78e88621-b772-4742-d925-8e1939c13cd3"
      },
      "execution_count": 40,
      "outputs": [
        {
          "output_type": "stream",
          "name": "stdout",
          "text": [
            "Model: \"sequential_1\"\n",
            "_________________________________________________________________\n",
            " Layer (type)                Output Shape              Param #   \n",
            "=================================================================\n",
            " conv2d_4 (Conv2D)           (None, 100, 100, 32)      896       \n",
            "                                                                 \n",
            " leaky_re_lu_5 (LeakyReLU)   (None, 100, 100, 32)      0         \n",
            "                                                                 \n",
            " max_pooling2d_4 (MaxPooling  (None, 50, 50, 32)       0         \n",
            " 2D)                                                             \n",
            "                                                                 \n",
            " conv2d_5 (Conv2D)           (None, 50, 50, 64)        18496     \n",
            "                                                                 \n",
            " leaky_re_lu_6 (LeakyReLU)   (None, 50, 50, 64)        0         \n",
            "                                                                 \n",
            " max_pooling2d_5 (MaxPooling  (None, 25, 25, 64)       0         \n",
            " 2D)                                                             \n",
            "                                                                 \n",
            " conv2d_6 (Conv2D)           (None, 25, 25, 128)       73856     \n",
            "                                                                 \n",
            " leaky_re_lu_7 (LeakyReLU)   (None, 25, 25, 128)       0         \n",
            "                                                                 \n",
            " max_pooling2d_6 (MaxPooling  (None, 13, 13, 128)      0         \n",
            " 2D)                                                             \n",
            "                                                                 \n",
            " conv2d_7 (Conv2D)           (None, 13, 13, 256)       295168    \n",
            "                                                                 \n",
            " leaky_re_lu_8 (LeakyReLU)   (None, 13, 13, 256)       0         \n",
            "                                                                 \n",
            " max_pooling2d_7 (MaxPooling  (None, 7, 7, 256)        0         \n",
            " 2D)                                                             \n",
            "                                                                 \n",
            " flatten_1 (Flatten)         (None, 12544)             0         \n",
            "                                                                 \n",
            " dense_2 (Dense)             (None, 512)               6423040   \n",
            "                                                                 \n",
            " leaky_re_lu_9 (LeakyReLU)   (None, 512)               0         \n",
            "                                                                 \n",
            " dense_3 (Dense)             (None, 7)                 3591      \n",
            "                                                                 \n",
            "=================================================================\n",
            "Total params: 6,815,047\n",
            "Trainable params: 6,815,047\n",
            "Non-trainable params: 0\n",
            "_________________________________________________________________\n"
          ]
        }
      ]
    },
    {
      "cell_type": "code",
      "source": [
        "start = time()\n",
        "train = model.fit(trainX, trainY, batch_size,epochs=epochs,verbose = 1, validation_data=(valX, valY))\n",
        "print(time()-start)\n",
        "     "
      ],
      "metadata": {
        "colab": {
          "base_uri": "https://localhost:8080/"
        },
        "id": "6aAnj12j6fHA",
        "outputId": "c907e259-a8c9-4434-aceb-4e3fe59a5432"
      },
      "execution_count": 26,
      "outputs": [
        {
          "output_type": "stream",
          "name": "stdout",
          "text": [
            "Epoch 1/50\n",
            "2/2 [==============================] - 6s 4s/step - loss: 2.4471 - accuracy: 0.2167 - val_loss: 1.9135 - val_accuracy: 0.2500\n",
            "Epoch 2/50\n",
            "2/2 [==============================] - 7s 3s/step - loss: 1.8860 - accuracy: 0.2833 - val_loss: 1.9053 - val_accuracy: 0.0500\n",
            "Epoch 3/50\n",
            "2/2 [==============================] - 4s 2s/step - loss: 1.8180 - accuracy: 0.2333 - val_loss: 1.7589 - val_accuracy: 0.4000\n",
            "Epoch 4/50\n",
            "2/2 [==============================] - 5s 4s/step - loss: 1.5789 - accuracy: 0.4000 - val_loss: 1.7697 - val_accuracy: 0.2500\n",
            "Epoch 5/50\n",
            "2/2 [==============================] - 7s 2s/step - loss: 1.3271 - accuracy: 0.5000 - val_loss: 1.5154 - val_accuracy: 0.4500\n",
            "Epoch 6/50\n",
            "2/2 [==============================] - 2s 1s/step - loss: 0.9969 - accuracy: 0.7500 - val_loss: 0.9493 - val_accuracy: 0.6500\n",
            "Epoch 7/50\n",
            "2/2 [==============================] - 2s 1s/step - loss: 0.7078 - accuracy: 0.7833 - val_loss: 0.3656 - val_accuracy: 1.0000\n",
            "Epoch 8/50\n",
            "2/2 [==============================] - 2s 1s/step - loss: 0.2951 - accuracy: 1.0000 - val_loss: 0.1357 - val_accuracy: 1.0000\n",
            "Epoch 9/50\n",
            "2/2 [==============================] - 3s 2s/step - loss: 0.2154 - accuracy: 0.9333 - val_loss: 0.0379 - val_accuracy: 1.0000\n",
            "Epoch 10/50\n",
            "2/2 [==============================] - 3s 2s/step - loss: 0.0768 - accuracy: 0.9833 - val_loss: 0.0713 - val_accuracy: 1.0000\n",
            "Epoch 11/50\n",
            "2/2 [==============================] - 2s 1s/step - loss: 0.0428 - accuracy: 1.0000 - val_loss: 0.0053 - val_accuracy: 1.0000\n",
            "Epoch 12/50\n",
            "2/2 [==============================] - 2s 1s/step - loss: 0.0057 - accuracy: 1.0000 - val_loss: 0.2866 - val_accuracy: 0.8500\n",
            "Epoch 13/50\n",
            "2/2 [==============================] - 2s 1s/step - loss: 0.0321 - accuracy: 0.9833 - val_loss: 0.0075 - val_accuracy: 1.0000\n",
            "Epoch 14/50\n",
            "2/2 [==============================] - 2s 1s/step - loss: 0.0274 - accuracy: 0.9833 - val_loss: 2.6755e-04 - val_accuracy: 1.0000\n",
            "Epoch 15/50\n",
            "2/2 [==============================] - 3s 2s/step - loss: 0.0143 - accuracy: 0.9833 - val_loss: 0.0017 - val_accuracy: 1.0000\n",
            "Epoch 16/50\n",
            "2/2 [==============================] - 4s 2s/step - loss: 0.0116 - accuracy: 1.0000 - val_loss: 0.0012 - val_accuracy: 1.0000\n",
            "Epoch 17/50\n",
            "2/2 [==============================] - 2s 1s/step - loss: 0.0019 - accuracy: 1.0000 - val_loss: 0.0041 - val_accuracy: 1.0000\n",
            "Epoch 18/50\n",
            "2/2 [==============================] - 2s 1s/step - loss: 0.0042 - accuracy: 1.0000 - val_loss: 0.0044 - val_accuracy: 1.0000\n",
            "Epoch 19/50\n",
            "2/2 [==============================] - 2s 1s/step - loss: 0.0036 - accuracy: 1.0000 - val_loss: 0.0013 - val_accuracy: 1.0000\n",
            "Epoch 20/50\n",
            "2/2 [==============================] - 2s 1s/step - loss: 0.0012 - accuracy: 1.0000 - val_loss: 5.6268e-04 - val_accuracy: 1.0000\n",
            "Epoch 21/50\n",
            "2/2 [==============================] - 3s 2s/step - loss: 0.0011 - accuracy: 1.0000 - val_loss: 2.7263e-04 - val_accuracy: 1.0000\n",
            "Epoch 22/50\n",
            "2/2 [==============================] - 5s 2s/step - loss: 6.6439e-04 - accuracy: 1.0000 - val_loss: 1.2801e-04 - val_accuracy: 1.0000\n",
            "Epoch 23/50\n",
            "2/2 [==============================] - 2s 1s/step - loss: 3.7429e-04 - accuracy: 1.0000 - val_loss: 6.1313e-05 - val_accuracy: 1.0000\n",
            "Epoch 24/50\n",
            "2/2 [==============================] - 2s 1s/step - loss: 1.0336e-04 - accuracy: 1.0000 - val_loss: 4.8633e-05 - val_accuracy: 1.0000\n",
            "Epoch 25/50\n",
            "2/2 [==============================] - 2s 1s/step - loss: 4.9693e-05 - accuracy: 1.0000 - val_loss: 4.7712e-05 - val_accuracy: 1.0000\n",
            "Epoch 26/50\n",
            "2/2 [==============================] - 3s 2s/step - loss: 2.2131e-05 - accuracy: 1.0000 - val_loss: 4.9313e-05 - val_accuracy: 1.0000\n",
            "Epoch 27/50\n",
            "2/2 [==============================] - 4s 2s/step - loss: 1.2797e-05 - accuracy: 1.0000 - val_loss: 5.0909e-05 - val_accuracy: 1.0000\n",
            "Epoch 28/50\n",
            "2/2 [==============================] - 2s 1s/step - loss: 8.1355e-06 - accuracy: 1.0000 - val_loss: 5.1963e-05 - val_accuracy: 1.0000\n",
            "Epoch 29/50\n",
            "2/2 [==============================] - 2s 1s/step - loss: 6.2483e-06 - accuracy: 1.0000 - val_loss: 5.2635e-05 - val_accuracy: 1.0000\n",
            "Epoch 30/50\n",
            "2/2 [==============================] - 2s 1s/step - loss: 5.4456e-06 - accuracy: 1.0000 - val_loss: 5.2856e-05 - val_accuracy: 1.0000\n",
            "Epoch 31/50\n",
            "2/2 [==============================] - 2s 1s/step - loss: 4.5020e-06 - accuracy: 1.0000 - val_loss: 5.2802e-05 - val_accuracy: 1.0000\n",
            "Epoch 32/50\n",
            "2/2 [==============================] - 3s 2s/step - loss: 4.1722e-06 - accuracy: 1.0000 - val_loss: 5.2534e-05 - val_accuracy: 1.0000\n",
            "Epoch 33/50\n",
            "2/2 [==============================] - 4s 2s/step - loss: 3.7510e-06 - accuracy: 1.0000 - val_loss: 5.2141e-05 - val_accuracy: 1.0000\n",
            "Epoch 34/50\n",
            "2/2 [==============================] - 2s 1s/step - loss: 3.5384e-06 - accuracy: 1.0000 - val_loss: 5.1694e-05 - val_accuracy: 1.0000\n",
            "Epoch 35/50\n",
            "2/2 [==============================] - 2s 1s/step - loss: 3.3835e-06 - accuracy: 1.0000 - val_loss: 5.1188e-05 - val_accuracy: 1.0000\n",
            "Epoch 36/50\n",
            "2/2 [==============================] - 2s 1s/step - loss: 3.2643e-06 - accuracy: 1.0000 - val_loss: 5.0646e-05 - val_accuracy: 1.0000\n",
            "Epoch 37/50\n",
            "2/2 [==============================] - 2s 1s/step - loss: 3.2007e-06 - accuracy: 1.0000 - val_loss: 5.0002e-05 - val_accuracy: 1.0000\n",
            "Epoch 38/50\n",
            "2/2 [==============================] - 2s 1s/step - loss: 3.0874e-06 - accuracy: 1.0000 - val_loss: 4.9359e-05 - val_accuracy: 1.0000\n",
            "Epoch 39/50\n",
            "2/2 [==============================] - 4s 2s/step - loss: 3.0179e-06 - accuracy: 1.0000 - val_loss: 4.8704e-05 - val_accuracy: 1.0000\n",
            "Epoch 40/50\n",
            "2/2 [==============================] - 3s 1s/step - loss: 2.9643e-06 - accuracy: 1.0000 - val_loss: 4.8084e-05 - val_accuracy: 1.0000\n",
            "Epoch 41/50\n",
            "2/2 [==============================] - 2s 1s/step - loss: 2.9126e-06 - accuracy: 1.0000 - val_loss: 4.7471e-05 - val_accuracy: 1.0000\n",
            "Epoch 42/50\n",
            "2/2 [==============================] - 2s 1s/step - loss: 2.8629e-06 - accuracy: 1.0000 - val_loss: 4.6875e-05 - val_accuracy: 1.0000\n",
            "Epoch 43/50\n",
            "2/2 [==============================] - 2s 1s/step - loss: 2.8351e-06 - accuracy: 1.0000 - val_loss: 4.6262e-05 - val_accuracy: 1.0000\n",
            "Epoch 44/50\n",
            "2/2 [==============================] - 2s 1s/step - loss: 2.7914e-06 - accuracy: 1.0000 - val_loss: 4.5714e-05 - val_accuracy: 1.0000\n",
            "Epoch 45/50\n",
            "2/2 [==============================] - 4s 2s/step - loss: 2.7656e-06 - accuracy: 1.0000 - val_loss: 4.5130e-05 - val_accuracy: 1.0000\n",
            "Epoch 46/50\n",
            "2/2 [==============================] - 3s 1s/step - loss: 2.7338e-06 - accuracy: 1.0000 - val_loss: 4.4582e-05 - val_accuracy: 1.0000\n",
            "Epoch 47/50\n",
            "2/2 [==============================] - 2s 1s/step - loss: 2.7020e-06 - accuracy: 1.0000 - val_loss: 4.4040e-05 - val_accuracy: 1.0000\n",
            "Epoch 48/50\n",
            "2/2 [==============================] - 2s 1s/step - loss: 2.6802e-06 - accuracy: 1.0000 - val_loss: 4.3432e-05 - val_accuracy: 1.0000\n",
            "Epoch 49/50\n",
            "2/2 [==============================] - 2s 1s/step - loss: 2.6444e-06 - accuracy: 1.0000 - val_loss: 4.2914e-05 - val_accuracy: 1.0000\n",
            "Epoch 50/50\n",
            "2/2 [==============================] - 3s 2s/step - loss: 2.6265e-06 - accuracy: 1.0000 - val_loss: 4.2378e-05 - val_accuracy: 1.0000\n",
            "202.86667013168335\n"
          ]
        }
      ]
    },
    {
      "cell_type": "code",
      "source": [
        "model.save('/content/drive/MyDrive/TrainAI/Test/')"
      ],
      "metadata": {
        "id": "xOVEWdp06wDt",
        "outputId": "d478e125-1910-459c-db9b-c8692568b1aa",
        "colab": {
          "base_uri": "https://localhost:8080/"
        }
      },
      "execution_count": 27,
      "outputs": [
        {
          "output_type": "stream",
          "name": "stderr",
          "text": [
            "WARNING:absl:Found untraced functions such as _jit_compiled_convolution_op, _jit_compiled_convolution_op, _jit_compiled_convolution_op, _jit_compiled_convolution_op while saving (showing 4 of 4). These functions will not be directly callable after loading.\n"
          ]
        }
      ]
    },
    {
      "cell_type": "code",
      "source": [
        "acc=train.history['accuracy']\n",
        "val_acc=train.history['val_accuracy']\n",
        "\n",
        "plt.figure(figsize=(8, 8))\n",
        "plt.subplot(2, 1, 1)\n",
        "plt.plot(acc, label='Training Accuracy')\n",
        "\n",
        "\n",
        "plt.legend(loc='lower right')\n",
        "plt.ylabel('Accuracy')\n",
        "plt.ylim([min(plt.ylim()),1.1])\n",
        "plt.title('Training ')\n",
        "plt.xlabel('Epoch')\n",
        "     "
      ],
      "metadata": {
        "colab": {
          "base_uri": "https://localhost:8080/",
          "height": 399
        },
        "id": "jfNFI4nS7F8N",
        "outputId": "dd2b48d2-e113-4cd0-9719-3d8f6a628e09"
      },
      "execution_count": 41,
      "outputs": [
        {
          "output_type": "execute_result",
          "data": {
            "text/plain": [
              "Text(0.5, 0, 'Epoch')"
            ]
          },
          "metadata": {},
          "execution_count": 41
        },
        {
          "output_type": "display_data",
          "data": {
            "text/plain": [
              "<Figure size 800x800 with 1 Axes>"
            ],
            "image/png": "[encoded data removed]"
          },
          "metadata": {}
        }
      ]
    },
    {
      "cell_type": "code",
      "source": [
        "name= {1:'sang', 2:'minh',3:'Phuc',4:'Hoang',5:'duynhat',6:'Loc'}  \n",
        "#test\n",
        "filePath = '/content/drive/MyDrive/TrainAI/Check/sang.jpg'\n",
        "testImage = load_img(filePath, target_size=(img_size,img_size))\n",
        "arrayImage = img_to_array(testImage).reshape(1,img_size,img_size,3)/255\n",
        "pred = np.argmax(model.predict(arrayImage))\n",
        "print(\"Predicted: \", name[pred])\n",
        "plt.imshow(testImage)\n",
        "    "
      ],
      "metadata": {
        "colab": {
          "base_uri": "https://localhost:8080/",
          "height": 485
        },
        "id": "T8OhFV587agm",
        "outputId": "6ce335a4-535a-46d6-aa3a-352450a2cfce"
      },
      "execution_count": 30,
      "outputs": [
        {
          "output_type": "stream",
          "name": "stdout",
          "text": [
            "1/1 [==============================] - 0s 138ms/step\n",
            "Predicted:  sang\n"
          ]
        },
        {
          "output_type": "execute_result",
          "data": {
            "text/plain": [
              "<matplotlib.image.AxesImage at 0x7f67be53c250>"
            ]
          },
          "metadata": {},
          "execution_count": 30
        },
        {
          "output_type": "display_data",
          "data": {
            "text/plain": [
              "<Figure size 640x480 with 1 Axes>"
            ],
            "image/png": "[encoded data removed]"
          },
          "metadata": {}
        }
      ]
    },
    {
      "cell_type": "code",
      "source": [
        "\n",
        "# Tạo một mảng các chỉ số ngẫu nhiên\n",
        "random_indices = np.random.choice(len(testX), size=20, replace=False)\n",
        "\n",
        "# Lấy ra 30 mẫu ngẫu nhiên từ tập dữ liệu testX và testY\n",
        "random_testX = testX[random_indices]\n",
        "random_testY = testY[random_indices]\n",
        "\n",
        "# Dùng mô hình để dự đoán nhãn của các mẫu trong tập dữ liệu ngẫu nhiên\n",
        "results = model.predict(random_testX)\n",
        "predicted_labels = np.argmax(results, axis=1)\n",
        "\n",
        "from sklearn.metrics import accuracy_score\n",
        "# tính độ chính xác \n",
        "accuracy = accuracy_score(np.argmax(random_testY, axis=1), predicted_labels)\n",
        "print(\"Accuracy:\", accuracy*100,\"%\")"
      ],
      "metadata": {
        "colab": {
          "base_uri": "https://localhost:8080/"
        },
        "id": "R8PRMs63__j0",
        "outputId": "8d8a1d79-2004-4c12-bec6-21e1c756ef44"
      },
      "execution_count": 31,
      "outputs": [
        {
          "output_type": "stream",
          "name": "stdout",
          "text": [
            "1/1 [==============================] - 0s 201ms/step\n",
            "Accuracy: 100.0 %\n"
          ]
        }
      ]
    }
  ]
}